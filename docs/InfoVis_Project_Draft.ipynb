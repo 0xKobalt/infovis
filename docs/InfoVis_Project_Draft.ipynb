{
 "cells": [
  {
   "cell_type": "markdown",
   "metadata": {},
   "source": [
    "# Vergrijzing: de ineenstorting van de economie\n",
    "### Github: https://github.com/0xKobalt/infovis | Github Pages: https://0xkobalt.github.io/infovis/docs/home.html\n",
    "\n",
    "## Introductie\n",
    "Een vergrijzende bevolking kan een probleem vormen voor de maatschappij. Vergrijzing houdt in dat de gemiddelde leeftijd stijgt en dat er meer ouderen/niet-werkende zijn dan werkenden. Dit komt doordat er beter zorg is voor ouderen en dat er minder kinderen worden geboren.\n",
    "\n",
    "Vergrijzing heeft invloed op de arbeidsmarkt, belastinginkomsten, zorgkosten en dus de economie.\n",
    "\n",
    "##### Perspectief 1:\n",
    "Vergrijzing is een probleem dat verandering in de samenleving vereist, anders stort de economie in. Doordat het aantal niet-werkende stijgt en het aantal werkende krimpt, zou de economie hard getroffen kunnen worden, doordat er minder minder mensen zijn om de kosten, zoals sociale voorzieningen, pensioenen en zorgkosten, te betalen. Verder krimpt de arbeidsmarkt ook, wat economische groei kan beperken. Er zou dus een verandering in de maatschappij moeten komen om dit probleem op te lossen.\n",
    "\n",
    "##### Perspectief 2:\n",
    "Vergrijzing is geen groot probleem, omdat het zichzelf oplost zonder interventie. Doordat ouderen veel uitgeven, doen ze actief mee met de economie. Hierdoor blijven de belastinginkomsten en kosten in balans. Verder kan de arbeidsproductiviteit ook stijgen door innovatie, wat de krimpende arbeidsmarkt compenseert. Vergrijzing is/wordt dus geen maatschappelijk probleem.\n"
   ]
  },
  {
   "cell_type": "markdown",
   "metadata": {},
   "source": [
    "## Dataset en preprocessing"
   ]
  },
  {
   "cell_type": "markdown",
   "metadata": {},
   "source": [
    "## Reflectie"
   ]
  },
  {
   "cell_type": "markdown",
   "metadata": {},
   "source": [
    "## Work distribution"
   ]
  },
  {
   "cell_type": "code",
   "execution_count": null,
   "metadata": {},
   "outputs": [],
   "source": []
  }
 ],
 "metadata": {
  "kernelspec": {
   "display_name": "Python 3 (ipykernel)",
   "language": "python",
   "name": "python3"
  },
  "language_info": {
   "codemirror_mode": {
    "name": "ipython",
    "version": 3
   },
   "file_extension": ".py",
   "mimetype": "text/x-python",
   "name": "python",
   "nbconvert_exporter": "python",
   "pygments_lexer": "ipython3",
   "version": "3.10.6"
  }
 },
 "nbformat": 4,
 "nbformat_minor": 2
}
